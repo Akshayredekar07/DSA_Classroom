{
 "cells": [
  {
   "cell_type": "code",
   "execution_count": 1,
   "metadata": {},
   "outputs": [
    {
     "name": "stdout",
     "output_type": "stream",
     "text": [
      "4\n"
     ]
    }
   ],
   "source": [
    "print(len(str(1234)))"
   ]
  },
  {
   "cell_type": "code",
   "execution_count": 2,
   "metadata": {},
   "outputs": [
    {
     "name": "stdout",
     "output_type": "stream",
     "text": [
      "4321\n"
     ]
    }
   ],
   "source": [
    "def rev2(n):\n",
    "    digits = len(str(n))\n",
    "    return helper(n, digits)\n",
    "\n",
    "def helper(n, digits):\n",
    "    if n % 10 == 0:\n",
    "        return n\n",
    "    rem = n % 10\n",
    "    return rem * 10**(digits - 1) + helper(n // 10, digits - 1)\n",
    "\n",
    "print(rev2(1234))"
   ]
  },
  {
   "cell_type": "code",
   "execution_count": 1,
   "metadata": {},
   "outputs": [
    {
     "name": "stdout",
     "output_type": "stream",
     "text": [
      "None\n"
     ]
    }
   ],
   "source": [
    "def find(arr, target, index):\n",
    "    if index == len(arr):\n",
    "        return False\n",
    "    return arr[index] == target or find(arr, target, index + 1)\n",
    "\n",
    "\n",
    "def find_index(arr, target, index):\n",
    "    if index == len(arr):\n",
    "        return -1\n",
    "    if arr[index] == target:\n",
    "        return index\n",
    "    else:\n",
    "        return find_index(arr, target, index + 1)\n",
    "\n",
    "\n",
    "def find_last_index(arr, target, index):\n",
    "    if index == -1:\n",
    "        return -1\n",
    "    if arr[index] == target:\n",
    "        return index\n",
    "    else:\n",
    "        return find_last_index(arr, target, index - 1)\n",
    "\n",
    "\n",
    "def find_all_index(arr, target, index, result):\n",
    "    if index == len(arr):\n",
    "        return result\n",
    "    if arr[index] == target:\n",
    "        result.append(index)\n",
    "    find_all_index(arr, target, index + 1, result)\n",
    "\n",
    "\n",
    "if __name__ == \"__main__\":\n",
    "    arr = [10, 2, 3, 4, 4, 5]\n",
    "    # print(find(arr, 5, 0))\n",
    "    # print(find_index(arr, 4, 0))\n",
    "    # print(find_last_index(arr, 4, len(arr) - 1))\n",
    "    # result = []\n",
    "    # find_all_index(arr, 4, 0, result)\n",
    "    # print(result)\n",
    "    ans = find_all_index(arr, 4, 0, [])\n",
    "    print(ans)\n"
   ]
  },
  {
   "cell_type": "code",
   "execution_count": 2,
   "metadata": {},
   "outputs": [],
   "source": [
    "def find(arr, target, index):\n",
    "    if index == len(arr):\n",
    "        return False\n",
    "    return arr[index] == target or find(arr, target, index+1)"
   ]
  },
  {
   "cell_type": "code",
   "execution_count": 3,
   "metadata": {},
   "outputs": [
    {
     "data": {
      "text/plain": [
       "True"
      ]
     },
     "execution_count": 3,
     "metadata": {},
     "output_type": "execute_result"
    }
   ],
   "source": [
    "find([1,3,4,7,9], 4, 0)"
   ]
  },
  {
   "cell_type": "code",
   "execution_count": 4,
   "metadata": {},
   "outputs": [],
   "source": [
    "def findInd(arr, target, index):\n",
    "    if index == len(arr):\n",
    "        return -1\n",
    "    \n",
    "    if arr[index] == target:\n",
    "        return index\n",
    "    \n",
    "    else:\n",
    "        return findInd(arr, 4, index+1)"
   ]
  },
  {
   "cell_type": "code",
   "execution_count": 5,
   "metadata": {},
   "outputs": [
    {
     "data": {
      "text/plain": [
       "2"
      ]
     },
     "execution_count": 5,
     "metadata": {},
     "output_type": "execute_result"
    }
   ],
   "source": [
    "findInd([1,3,4,7,9], 4, 0)"
   ]
  },
  {
   "cell_type": "code",
   "execution_count": 6,
   "metadata": {},
   "outputs": [],
   "source": [
    "def findLastInd(arr, target, index):\n",
    "    if index == -1:\n",
    "        return -1\n",
    "    \n",
    "    if arr[index] == target:\n",
    "        return index\n",
    "    \n",
    "    else:\n",
    "        return findInd(arr, 4, index-1)"
   ]
  },
  {
   "cell_type": "code",
   "execution_count": 8,
   "metadata": {},
   "outputs": [
    {
     "data": {
      "text/plain": [
       "4"
      ]
     },
     "execution_count": 8,
     "metadata": {},
     "output_type": "execute_result"
    }
   ],
   "source": [
    "arr = [1,3,4,7,9]\n",
    "findLastInd(arr, 9, len(arr)-1)"
   ]
  },
  {
   "cell_type": "code",
   "execution_count": 17,
   "metadata": {},
   "outputs": [],
   "source": [
    "def findAllIndex(arr, target, index, result):\n",
    "    if index == len(arr):\n",
    "        return result\n",
    "    if arr[index] == target:\n",
    "        result.append(index)\n",
    "    findAllIndex(arr, target, index + 1, result)"
   ]
  },
  {
   "cell_type": "code",
   "execution_count": 19,
   "metadata": {},
   "outputs": [
    {
     "name": "stdout",
     "output_type": "stream",
     "text": [
      "[3, 4]\n"
     ]
    }
   ],
   "source": [
    "if __name__ == \"__main__\":\n",
    "    arr = [10, 2, 3, 4, 4, 5]\n",
    "    result = []\n",
    "    ans = find_all_index(arr, 4, 0, result)\n",
    "    print(result)"
   ]
  },
  {
   "cell_type": "code",
   "execution_count": null,
   "metadata": {},
   "outputs": [],
   "source": []
  }
 ],
 "metadata": {
  "kernelspec": {
   "display_name": "Python 3",
   "language": "python",
   "name": "python3"
  },
  "language_info": {
   "codemirror_mode": {
    "name": "ipython",
    "version": 3
   },
   "file_extension": ".py",
   "mimetype": "text/x-python",
   "name": "python",
   "nbconvert_exporter": "python",
   "pygments_lexer": "ipython3",
   "version": "3.11.5"
  }
 },
 "nbformat": 4,
 "nbformat_minor": 2
}
