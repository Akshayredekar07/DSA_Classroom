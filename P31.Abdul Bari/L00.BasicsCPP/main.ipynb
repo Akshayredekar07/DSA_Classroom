{
 "cells": [
  {
   "cell_type": "code",
   "execution_count": 1,
   "metadata": {},
   "outputs": [
    {
     "name": "stdout",
     "output_type": "stream",
     "text": [
      "12\n",
      "15\n",
      "25\n"
     ]
    }
   ],
   "source": [
    "A = [12, 15, 25]\n",
    "\n",
    "print(len(A) * 4)  # sizeof(A) in bytes\n",
    "print(A[1])\n",
    "print(A[2])"
   ]
  },
  {
   "cell_type": "code",
   "execution_count": 2,
   "metadata": {},
   "outputs": [
    {
     "name": "stdout",
     "output_type": "stream",
     "text": [
      "Size of A: 140 bytes\n",
      "A[1]: 15\n",
      "A[2]: 25\n"
     ]
    }
   ],
   "source": [
    "# Define an array with size 5\n",
    "A = [0] * 5\n",
    "A[0] = 12\n",
    "A[1] = 15\n",
    "A[2] = 25\n",
    "\n",
    "# Display the size of the array in bytes\n",
    "print(\"Size of A:\", len(A) * A[0].__sizeof__(), \"bytes\")\n",
    "print(\"A[1]:\", A[1])\n",
    "print(\"A[2]:\", A[2])\n"
   ]
  },
  {
   "cell_type": "code",
   "execution_count": null,
   "metadata": {},
   "outputs": [],
   "source": []
  },
  {
   "cell_type": "code",
   "execution_count": null,
   "metadata": {},
   "outputs": [],
   "source": []
  }
 ],
 "metadata": {
  "kernelspec": {
   "display_name": "Python 3",
   "language": "python",
   "name": "python3"
  },
  "language_info": {
   "codemirror_mode": {
    "name": "ipython",
    "version": 3
   },
   "file_extension": ".py",
   "mimetype": "text/x-python",
   "name": "python",
   "nbconvert_exporter": "python",
   "pygments_lexer": "ipython3",
   "version": "3.12.7"
  }
 },
 "nbformat": 4,
 "nbformat_minor": 2
}
